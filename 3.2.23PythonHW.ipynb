{
 "cells": [
  {
   "cell_type": "markdown",
   "id": "638fadc2",
   "metadata": {},
   "source": [
    "Create a python wrapper for the Pokemon API. It should take in a pokemon name and display the pokemon with its height and weight"
   ]
  },
  {
   "cell_type": "code",
   "execution_count": 6,
   "id": "256bec23",
   "metadata": {},
   "outputs": [],
   "source": [
    "import requests\n",
    "\n",
    "class pokeapi:\n",
    "    def __init__(self,name):\n",
    "        self.name = name\n",
    "\n",
    "\n",
    "    def pokeStats(self):\n",
    "        res = requests.get(f'https://pokeapi.co/api/v2/pokemon/{self.name}')\n",
    "        \n",
    "        data = res.json()\n",
    "\n",
    "        print(f\"{self.name} has a weight of {data.get('weight')} and a height of {data.get('height')}\")"
   ]
  },
  {
   "cell_type": "code",
   "execution_count": 8,
   "id": "4f08d635",
   "metadata": {},
   "outputs": [
    {
     "name": "stdout",
     "output_type": "stream",
     "text": [
      "gyarados has a weight of 2350 and a height of 65\n"
     ]
    }
   ],
   "source": [
    "Gyarados = pokeapi('gyarados')\n",
    "\n",
    "Gyarados.pokeStats()"
   ]
  },
  {
   "cell_type": "code",
   "execution_count": null,
   "id": "739a7cc7",
   "metadata": {},
   "outputs": [],
   "source": []
  }
 ],
 "metadata": {
  "kernelspec": {
   "display_name": "Python 3 (ipykernel)",
   "language": "python",
   "name": "python3"
  },
  "language_info": {
   "codemirror_mode": {
    "name": "ipython",
    "version": 3
   },
   "file_extension": ".py",
   "mimetype": "text/x-python",
   "name": "python",
   "nbconvert_exporter": "python",
   "pygments_lexer": "ipython3",
   "version": "3.9.13"
  }
 },
 "nbformat": 4,
 "nbformat_minor": 5
}
